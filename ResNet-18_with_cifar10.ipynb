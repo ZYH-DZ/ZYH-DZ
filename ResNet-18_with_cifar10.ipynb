{
  "nbformat": 4,
  "nbformat_minor": 0,
  "metadata": {
    "colab": {
      "name": "Untitled1.ipynb",
      "provenance": [],
      "authorship_tag": "ABX9TyN3knhLjcP4aNEqcZbSXb/u",
      "include_colab_link": true
    },
    "kernelspec": {
      "name": "python3",
      "display_name": "Python 3"
    },
    "language_info": {
      "name": "python"
    },
    "accelerator": "GPU",
    "widgets": {
      "application/vnd.jupyter.widget-state+json": {
        "4ada73c17fdf4c3c9dc0e65defebfa91": {
          "model_module": "@jupyter-widgets/controls",
          "model_name": "HBoxModel",
          "model_module_version": "1.5.0",
          "state": {
            "_view_name": "HBoxView",
            "_dom_classes": [],
            "_model_name": "HBoxModel",
            "_view_module": "@jupyter-widgets/controls",
            "_model_module_version": "1.5.0",
            "_view_count": null,
            "_view_module_version": "1.5.0",
            "box_style": "",
            "layout": "IPY_MODEL_4637336c7ce944bf9376fa3cfe059f6e",
            "_model_module": "@jupyter-widgets/controls",
            "children": [
              "IPY_MODEL_1f42fdd253dd45a2b7f22eadc8aef7be",
              "IPY_MODEL_19984c4c17fa4dc5af3632bdc21378ab",
              "IPY_MODEL_087393dafe3743ea933a211ce1b38fcd"
            ]
          }
        },
        "4637336c7ce944bf9376fa3cfe059f6e": {
          "model_module": "@jupyter-widgets/base",
          "model_name": "LayoutModel",
          "model_module_version": "1.2.0",
          "state": {
            "_view_name": "LayoutView",
            "grid_template_rows": null,
            "right": null,
            "justify_content": null,
            "_view_module": "@jupyter-widgets/base",
            "overflow": null,
            "_model_module_version": "1.2.0",
            "_view_count": null,
            "flex_flow": null,
            "width": null,
            "min_width": null,
            "border": null,
            "align_items": null,
            "bottom": null,
            "_model_module": "@jupyter-widgets/base",
            "top": null,
            "grid_column": null,
            "overflow_y": null,
            "overflow_x": null,
            "grid_auto_flow": null,
            "grid_area": null,
            "grid_template_columns": null,
            "flex": null,
            "_model_name": "LayoutModel",
            "justify_items": null,
            "grid_row": null,
            "max_height": null,
            "align_content": null,
            "visibility": null,
            "align_self": null,
            "height": null,
            "min_height": null,
            "padding": null,
            "grid_auto_rows": null,
            "grid_gap": null,
            "max_width": null,
            "order": null,
            "_view_module_version": "1.2.0",
            "grid_template_areas": null,
            "object_position": null,
            "object_fit": null,
            "grid_auto_columns": null,
            "margin": null,
            "display": null,
            "left": null
          }
        },
        "1f42fdd253dd45a2b7f22eadc8aef7be": {
          "model_module": "@jupyter-widgets/controls",
          "model_name": "HTMLModel",
          "model_module_version": "1.5.0",
          "state": {
            "_view_name": "HTMLView",
            "style": "IPY_MODEL_6355a87ed3ce4915881f2633482467c4",
            "_dom_classes": [],
            "description": "",
            "_model_name": "HTMLModel",
            "placeholder": "​",
            "_view_module": "@jupyter-widgets/controls",
            "_model_module_version": "1.5.0",
            "value": "",
            "_view_count": null,
            "_view_module_version": "1.5.0",
            "description_tooltip": null,
            "_model_module": "@jupyter-widgets/controls",
            "layout": "IPY_MODEL_63f3f9ebdaab4ba1b094de441f2ce27b"
          }
        },
        "19984c4c17fa4dc5af3632bdc21378ab": {
          "model_module": "@jupyter-widgets/controls",
          "model_name": "FloatProgressModel",
          "model_module_version": "1.5.0",
          "state": {
            "_view_name": "ProgressView",
            "style": "IPY_MODEL_e5a7418b890649f4979336fe05613ddc",
            "_dom_classes": [],
            "description": "",
            "_model_name": "FloatProgressModel",
            "bar_style": "success",
            "max": 170498071,
            "_view_module": "@jupyter-widgets/controls",
            "_model_module_version": "1.5.0",
            "value": 170498071,
            "_view_count": null,
            "_view_module_version": "1.5.0",
            "orientation": "horizontal",
            "min": 0,
            "description_tooltip": null,
            "_model_module": "@jupyter-widgets/controls",
            "layout": "IPY_MODEL_224ce0d1cf9943f49c1d9acdd8690890"
          }
        },
        "087393dafe3743ea933a211ce1b38fcd": {
          "model_module": "@jupyter-widgets/controls",
          "model_name": "HTMLModel",
          "model_module_version": "1.5.0",
          "state": {
            "_view_name": "HTMLView",
            "style": "IPY_MODEL_f89a6d9f6305403fab2b62006116c92b",
            "_dom_classes": [],
            "description": "",
            "_model_name": "HTMLModel",
            "placeholder": "​",
            "_view_module": "@jupyter-widgets/controls",
            "_model_module_version": "1.5.0",
            "value": " 170499072/? [00:03&lt;00:00, 55757682.06it/s]",
            "_view_count": null,
            "_view_module_version": "1.5.0",
            "description_tooltip": null,
            "_model_module": "@jupyter-widgets/controls",
            "layout": "IPY_MODEL_ce54e6a857e34b2fad28d5586673fb7b"
          }
        },
        "6355a87ed3ce4915881f2633482467c4": {
          "model_module": "@jupyter-widgets/controls",
          "model_name": "DescriptionStyleModel",
          "model_module_version": "1.5.0",
          "state": {
            "_view_name": "StyleView",
            "_model_name": "DescriptionStyleModel",
            "description_width": "",
            "_view_module": "@jupyter-widgets/base",
            "_model_module_version": "1.5.0",
            "_view_count": null,
            "_view_module_version": "1.2.0",
            "_model_module": "@jupyter-widgets/controls"
          }
        },
        "63f3f9ebdaab4ba1b094de441f2ce27b": {
          "model_module": "@jupyter-widgets/base",
          "model_name": "LayoutModel",
          "model_module_version": "1.2.0",
          "state": {
            "_view_name": "LayoutView",
            "grid_template_rows": null,
            "right": null,
            "justify_content": null,
            "_view_module": "@jupyter-widgets/base",
            "overflow": null,
            "_model_module_version": "1.2.0",
            "_view_count": null,
            "flex_flow": null,
            "width": null,
            "min_width": null,
            "border": null,
            "align_items": null,
            "bottom": null,
            "_model_module": "@jupyter-widgets/base",
            "top": null,
            "grid_column": null,
            "overflow_y": null,
            "overflow_x": null,
            "grid_auto_flow": null,
            "grid_area": null,
            "grid_template_columns": null,
            "flex": null,
            "_model_name": "LayoutModel",
            "justify_items": null,
            "grid_row": null,
            "max_height": null,
            "align_content": null,
            "visibility": null,
            "align_self": null,
            "height": null,
            "min_height": null,
            "padding": null,
            "grid_auto_rows": null,
            "grid_gap": null,
            "max_width": null,
            "order": null,
            "_view_module_version": "1.2.0",
            "grid_template_areas": null,
            "object_position": null,
            "object_fit": null,
            "grid_auto_columns": null,
            "margin": null,
            "display": null,
            "left": null
          }
        },
        "e5a7418b890649f4979336fe05613ddc": {
          "model_module": "@jupyter-widgets/controls",
          "model_name": "ProgressStyleModel",
          "model_module_version": "1.5.0",
          "state": {
            "_view_name": "StyleView",
            "_model_name": "ProgressStyleModel",
            "description_width": "",
            "_view_module": "@jupyter-widgets/base",
            "_model_module_version": "1.5.0",
            "_view_count": null,
            "_view_module_version": "1.2.0",
            "bar_color": null,
            "_model_module": "@jupyter-widgets/controls"
          }
        },
        "224ce0d1cf9943f49c1d9acdd8690890": {
          "model_module": "@jupyter-widgets/base",
          "model_name": "LayoutModel",
          "model_module_version": "1.2.0",
          "state": {
            "_view_name": "LayoutView",
            "grid_template_rows": null,
            "right": null,
            "justify_content": null,
            "_view_module": "@jupyter-widgets/base",
            "overflow": null,
            "_model_module_version": "1.2.0",
            "_view_count": null,
            "flex_flow": null,
            "width": null,
            "min_width": null,
            "border": null,
            "align_items": null,
            "bottom": null,
            "_model_module": "@jupyter-widgets/base",
            "top": null,
            "grid_column": null,
            "overflow_y": null,
            "overflow_x": null,
            "grid_auto_flow": null,
            "grid_area": null,
            "grid_template_columns": null,
            "flex": null,
            "_model_name": "LayoutModel",
            "justify_items": null,
            "grid_row": null,
            "max_height": null,
            "align_content": null,
            "visibility": null,
            "align_self": null,
            "height": null,
            "min_height": null,
            "padding": null,
            "grid_auto_rows": null,
            "grid_gap": null,
            "max_width": null,
            "order": null,
            "_view_module_version": "1.2.0",
            "grid_template_areas": null,
            "object_position": null,
            "object_fit": null,
            "grid_auto_columns": null,
            "margin": null,
            "display": null,
            "left": null
          }
        },
        "f89a6d9f6305403fab2b62006116c92b": {
          "model_module": "@jupyter-widgets/controls",
          "model_name": "DescriptionStyleModel",
          "model_module_version": "1.5.0",
          "state": {
            "_view_name": "StyleView",
            "_model_name": "DescriptionStyleModel",
            "description_width": "",
            "_view_module": "@jupyter-widgets/base",
            "_model_module_version": "1.5.0",
            "_view_count": null,
            "_view_module_version": "1.2.0",
            "_model_module": "@jupyter-widgets/controls"
          }
        },
        "ce54e6a857e34b2fad28d5586673fb7b": {
          "model_module": "@jupyter-widgets/base",
          "model_name": "LayoutModel",
          "model_module_version": "1.2.0",
          "state": {
            "_view_name": "LayoutView",
            "grid_template_rows": null,
            "right": null,
            "justify_content": null,
            "_view_module": "@jupyter-widgets/base",
            "overflow": null,
            "_model_module_version": "1.2.0",
            "_view_count": null,
            "flex_flow": null,
            "width": null,
            "min_width": null,
            "border": null,
            "align_items": null,
            "bottom": null,
            "_model_module": "@jupyter-widgets/base",
            "top": null,
            "grid_column": null,
            "overflow_y": null,
            "overflow_x": null,
            "grid_auto_flow": null,
            "grid_area": null,
            "grid_template_columns": null,
            "flex": null,
            "_model_name": "LayoutModel",
            "justify_items": null,
            "grid_row": null,
            "max_height": null,
            "align_content": null,
            "visibility": null,
            "align_self": null,
            "height": null,
            "min_height": null,
            "padding": null,
            "grid_auto_rows": null,
            "grid_gap": null,
            "max_width": null,
            "order": null,
            "_view_module_version": "1.2.0",
            "grid_template_areas": null,
            "object_position": null,
            "object_fit": null,
            "grid_auto_columns": null,
            "margin": null,
            "display": null,
            "left": null
          }
        }
      }
    }
  },
  "cells": [
    {
      "cell_type": "markdown",
      "metadata": {
        "id": "view-in-github",
        "colab_type": "text"
      },
      "source": [
        "<a href=\"https://colab.research.google.com/github/ZYH-DZ/ZYH-DZ/blob/main/ResNet-18_with_cifar10.ipynb\" target=\"_parent\"><img src=\"https://colab.research.google.com/assets/colab-badge.svg\" alt=\"Open In Colab\"/></a>"
      ]
    },
    {
      "cell_type": "code",
      "metadata": {
        "id": "2zIuMd461-Ry"
      },
      "source": [
        "import torch\n",
        "from torch import nn\n",
        "from torch.nn import functional as F\n",
        "import torchvision.transforms as transforms\n",
        "import torchvision\n",
        "\n",
        "# class Reshape(nn.Module):\n",
        "#     def forward(self,x):\n",
        "#         return x.view(-1,3,224,224)\n",
        "\n",
        "# 定义一个残差块\n",
        "class Residual(nn.Module):\n",
        "    def __init__(self,input_channels,num_channels,\n",
        "                  use_lxlconv = False,strides=1):\n",
        "        super().__init__()\n",
        "        self.conv1 = nn.Conv2d(input_channels,num_channels,\n",
        "                              kernel_size=3,padding=1,stride=strides)\n",
        "        self.conv2 = nn.Conv2d(num_channels,num_channels,kernel_size=3,padding=1)\n",
        "        if use_lxlconv:\n",
        "            self.conv3 = nn.Conv2d(input_channels,num_channels,\n",
        "                                   kernel_size=1,stride=strides)\n",
        "        else:\n",
        "            self.conv3 = None\n",
        "        self.bn1 = nn.BatchNorm2d(num_channels)\n",
        "        self.bn2 = nn.BatchNorm2d(num_channels)\n",
        "        self.relu = nn.ReLU(inplace=True)\n",
        "    \n",
        "    def forward(self,X):\n",
        "        Y = F.relu(self.bn1(self.conv1(X)))\n",
        "        Y = self.bn2(self.conv2(Y))\n",
        "        if self.conv3:\n",
        "            X = self.conv3(X)\n",
        "        Y += X\n",
        "        return F.relu(Y)\n"
      ],
      "execution_count": 1,
      "outputs": []
    },
    {
      "cell_type": "code",
      "metadata": {
        "id": "8o-EeCkC2n9q"
      },
      "source": [
        "b1 = nn.Sequential(nn.Conv2d(3,64,kernel_size=3,stride=1,padding=1),\n",
        "                  nn.BatchNorm2d(64),nn.ReLU(),\n",
        "                  # nn.MaxPool2d(kernel_size=3,stride=2,padding=1)\n",
        "                  )\n",
        "\n",
        "def resnet_block(input_channels,num_channels,num_residuals,first_block=False):\n",
        "    blk = []\n",
        "    for i in range(num_residuals):\n",
        "        if i == 0 and not first_block:\n",
        "            blk.append(Residual(input_channels,num_channels,\n",
        "                                use_lxlconv=True,strides=2))\n",
        "        else:\n",
        "            blk.append(Residual(num_channels,num_channels))\n",
        "    return blk\n",
        "\n",
        "b2 = nn.Sequential(*resnet_block(64,64,2,first_block=True))\n",
        "b3 = nn.Sequential(*resnet_block(64,128,2))\n",
        "b4 = nn.Sequential(*resnet_block(128,256,2))\n",
        "b5 = nn.Sequential(*resnet_block(256,512,2))\n",
        "\n",
        "net = nn.Sequential(b1,b2,b3,b4,b5,\n",
        "                    nn.AdaptiveAvgPool2d((1,1)),        # 全局平均汇聚层\n",
        "                    nn.Flatten(),nn.Linear(512,10))"
      ],
      "execution_count": 2,
      "outputs": []
    },
    {
      "cell_type": "code",
      "metadata": {
        "id": "CNYp3h145mkx",
        "colab": {
          "base_uri": "https://localhost:8080/"
        },
        "outputId": "8e76a4e9-f536-476b-df67-4cf23a9b8b5a"
      },
      "source": [
        "X = torch.rand(size=(1,3,32,32))\n",
        "for layer in net:\n",
        "    X = layer(X)\n",
        "    print(layer.__class__.__name__,'output shape:\\t',X.shape)"
      ],
      "execution_count": 3,
      "outputs": [
        {
          "output_type": "stream",
          "name": "stdout",
          "text": [
            "Sequential output shape:\t torch.Size([1, 64, 32, 32])\n",
            "Sequential output shape:\t torch.Size([1, 64, 32, 32])\n",
            "Sequential output shape:\t torch.Size([1, 128, 16, 16])\n",
            "Sequential output shape:\t torch.Size([1, 256, 8, 8])\n",
            "Sequential output shape:\t torch.Size([1, 512, 4, 4])\n",
            "AdaptiveAvgPool2d output shape:\t torch.Size([1, 512, 1, 1])\n",
            "Flatten output shape:\t torch.Size([1, 512])\n",
            "Linear output shape:\t torch.Size([1, 10])\n"
          ]
        }
      ]
    },
    {
      "cell_type": "code",
      "metadata": {
        "id": "3_Oxsyc65o8I",
        "colab": {
          "base_uri": "https://localhost:8080/",
          "height": 119,
          "referenced_widgets": [
            "4ada73c17fdf4c3c9dc0e65defebfa91",
            "4637336c7ce944bf9376fa3cfe059f6e",
            "1f42fdd253dd45a2b7f22eadc8aef7be",
            "19984c4c17fa4dc5af3632bdc21378ab",
            "087393dafe3743ea933a211ce1b38fcd",
            "6355a87ed3ce4915881f2633482467c4",
            "63f3f9ebdaab4ba1b094de441f2ce27b",
            "e5a7418b890649f4979336fe05613ddc",
            "224ce0d1cf9943f49c1d9acdd8690890",
            "f89a6d9f6305403fab2b62006116c92b",
            "ce54e6a857e34b2fad28d5586673fb7b"
          ]
        },
        "outputId": "17301525-3433-40f0-fdbb-9fabffa01393"
      },
      "source": [
        "transform = transforms.Compose(\n",
        "    [# transforms.Resize(224),\n",
        "     transforms.ToTensor(),\n",
        "     transforms.ColorJitter(brightness=0.3,contrast=0,saturation=0,hue=0),\n",
        "     transforms.Normalize((0.5,0.5,0.5),(0.5,0.5,0.5))])\n",
        "\n",
        "# 在构建数据集的时候指定transform，应用定义好的transform\n",
        "cifar_train = torchvision.datasets.CIFAR10(root='./data',train=True,download=True,transform=transform)\n",
        "cifar_test = torchvision.datasets.CIFAR10(root='./data',train=False,download=True,transform=transform)\n",
        "trainloader = torch.utils.data.DataLoader(cifar_train,batch_size=32,shuffle=True)\n",
        "testloader = torch.utils.data.DataLoader(cifar_test,batch_size=32,shuffle=True)"
      ],
      "execution_count": 4,
      "outputs": [
        {
          "output_type": "stream",
          "name": "stdout",
          "text": [
            "Downloading https://www.cs.toronto.edu/~kriz/cifar-10-python.tar.gz to ./data/cifar-10-python.tar.gz\n"
          ]
        },
        {
          "output_type": "display_data",
          "data": {
            "application/vnd.jupyter.widget-view+json": {
              "model_id": "4ada73c17fdf4c3c9dc0e65defebfa91",
              "version_minor": 0,
              "version_major": 2
            },
            "text/plain": [
              "  0%|          | 0/170498071 [00:00<?, ?it/s]"
            ]
          },
          "metadata": {}
        },
        {
          "output_type": "stream",
          "name": "stdout",
          "text": [
            "Extracting ./data/cifar-10-python.tar.gz to ./data\n",
            "Files already downloaded and verified\n"
          ]
        }
      ]
    },
    {
      "cell_type": "code",
      "metadata": {
        "id": "gOqeQzTS5qso",
        "colab": {
          "base_uri": "https://localhost:8080/"
        },
        "outputId": "c4953efc-0dc6-45df-8e98-ac6636be44d0"
      },
      "source": [
        "import torch.optim as optim\n",
        "print('start training')\n",
        "# animator = d2l.Animator(xlabel='epoch', xlim=[1, 30],\n",
        "#                         legend=['train loss', 'train acc'])\n",
        "\n",
        "device = torch.device(\"cuda\" if torch.cuda.is_available() else \"cpu\")\n",
        "\n",
        "net = net.to(device)\n",
        "\n",
        "criterion = nn.CrossEntropyLoss()\n",
        "optimizer = optim.SGD(net.parameters(),lr=0.01,momentum=0.9)\n",
        "\n",
        "for epoch in range(10):\n",
        "    # 记录每100个batch的平均loss\n",
        "    loss100 = 0.0\n",
        "    correct = 0\n",
        "    n = 0\n",
        "    total = 0.0\n",
        "    sumLoss = 0.0\n",
        "    for i,data in enumerate(trainloader):\n",
        "        inputs,labels = data\n",
        "        inputs,labels = inputs.to(device),labels.to(device)\n",
        "        optimizer.zero_grad()\n",
        "        outputs = net(inputs)\n",
        "        loss = criterion(outputs,labels)\n",
        "        loss.backward()\n",
        "        optimizer.step()\n",
        "        loss100 += loss.item()\n",
        "        _,predicted = torch.max(outputs.data,1)\n",
        "        correct += (predicted == labels).sum().item()\n",
        "        total += labels.size(0)\n",
        "        n += 1\n",
        "        sumLoss += loss\n",
        "        if i % 100 == 99:\n",
        "            print(epoch + 1,i + 1,loss100 / 100)\n",
        "            loss100 = 0.0\n",
        "    # animator.add(epoch+1,(sumLoss.item()/n,correct/total))\n",
        "print('done training')"
      ],
      "execution_count": null,
      "outputs": [
        {
          "output_type": "stream",
          "name": "stdout",
          "text": [
            "start training\n",
            "1 100 2.186343437433243\n",
            "1 200 1.8757212793827056\n",
            "1 300 1.7645031237602233\n",
            "1 400 1.619957239627838\n",
            "1 500 1.5760617578029632\n",
            "1 600 1.4791674065589904\n",
            "1 700 1.4443983799219131\n",
            "1 800 1.3280167293548584\n",
            "1 900 1.2887404942512513\n",
            "1 1000 1.2287150233983994\n",
            "1 1100 1.1807635045051574\n",
            "1 1200 1.1099241894483567\n",
            "1 1300 1.0985205751657485\n",
            "1 1400 1.0570274901390075\n",
            "1 1500 1.0177167350053786\n",
            "2 100 0.8972418642044068\n",
            "2 200 0.9072092631459237\n",
            "2 300 0.85384864538908\n",
            "2 400 0.8402184545993805\n",
            "2 500 0.8802482372522354\n",
            "2 600 0.8152430301904678\n",
            "2 700 0.8454994902014732\n"
          ]
        }
      ]
    },
    {
      "cell_type": "code",
      "metadata": {
        "id": "k4BpUviv8WlF"
      },
      "source": [
        ""
      ],
      "execution_count": null,
      "outputs": []
    }
  ]
}